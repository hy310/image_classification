{
 "cells": [
  {
   "cell_type": "markdown",
   "metadata": {},
   "source": [
    "<img src='https://www.anadronestarting.com/wp-content/uploads/intel-main_opt.png' width=50%>\n",
    "\n",
    "# Lecture002 - 이미지 분류 & 모델 트레이닝\n",
    "<font size=5><b>(Image Classification using Mobilenet)<b></font>\n",
    "\n",
    "\n",
    "<img src='https://chaosmail.github.io/images/deep-learning/classification.png' width=60%>\n",
    "\n",
    "---"
   ]
  },
  {
   "cell_type": "markdown",
   "metadata": {
    "toc": true
   },
   "source": [
    "<h1>강의목차<span class=\"tocSkip\"></span></h1>\n",
    "<div class=\"toc\"><ul class=\"toc-item\"><li><span><a href=\"#필요한-라이브러리-및-옵션\" data-toc-modified-id=\"필요한-라이브러리-및-옵션-1\"><span class=\"toc-item-num\">1&nbsp;&nbsp;</span>필요한 라이브러리 및 옵션</a></span><ul class=\"toc-item\"><li><span><a href=\"#기본-라이브러리(Library)\" data-toc-modified-id=\"기본-라이브러리(Library)-1.1\"><span class=\"toc-item-num\">1.1&nbsp;&nbsp;</span>기본 라이브러리(Library)</a></span></li><li><span><a href=\"#옵션(Option)\" data-toc-modified-id=\"옵션(Option)-1.2\"><span class=\"toc-item-num\">1.2&nbsp;&nbsp;</span>옵션(Option)</a></span></li></ul></li><li><span><a href=\"#예제---VOC2012\" data-toc-modified-id=\"예제---VOC2012-2\"><span class=\"toc-item-num\">2&nbsp;&nbsp;</span>예제 - VOC2012</a></span><ul class=\"toc-item\"><li><span><a href=\"#VOC-2012란?\" data-toc-modified-id=\"VOC-2012란?-2.1\"><span class=\"toc-item-num\">2.1&nbsp;&nbsp;</span>VOC 2012란?</a></span></li><li><span><a href=\"#VOC-데이터의-구성\" data-toc-modified-id=\"VOC-데이터의-구성-2.2\"><span class=\"toc-item-num\">2.2&nbsp;&nbsp;</span>VOC 데이터의 구성</a></span></li><li><span><a href=\"#다운로드-링크\" data-toc-modified-id=\"다운로드-링크-2.3\"><span class=\"toc-item-num\">2.3&nbsp;&nbsp;</span>다운로드 링크</a></span></li><li><span><a href=\"#학습에-필요한-상수\" data-toc-modified-id=\"학습에-필요한-상수-2.4\"><span class=\"toc-item-num\">2.4&nbsp;&nbsp;</span>학습에 필요한 상수</a></span></li><li><span><a href=\"#모델-컴파일\" data-toc-modified-id=\"모델-컴파일-2.5\"><span class=\"toc-item-num\">2.5&nbsp;&nbsp;</span>모델 컴파일</a></span></li><li><span><a href=\"#모델-학습하기\" data-toc-modified-id=\"모델-학습하기-2.6\"><span class=\"toc-item-num\">2.6&nbsp;&nbsp;</span>모델 학습하기</a></span></li><li><span><a href=\"#모델-저장하기\" data-toc-modified-id=\"모델-저장하기-2.7\"><span class=\"toc-item-num\">2.7&nbsp;&nbsp;</span>모델 저장하기</a></span></li><li><span><a href=\"#모델-평가하기\" data-toc-modified-id=\"모델-평가하기-2.8\"><span class=\"toc-item-num\">2.8&nbsp;&nbsp;</span>모델 평가하기</a></span></li><li><span><a href=\"#테스트해보기\" data-toc-modified-id=\"테스트해보기-2.9\"><span class=\"toc-item-num\">2.9&nbsp;&nbsp;</span>테스트해보기</a></span></li></ul></li><li><span><a href=\"#참고\" data-toc-modified-id=\"참고-3\"><span class=\"toc-item-num\">3&nbsp;&nbsp;</span>참고</a></span></li></ul></div>"
   ]
  },
  {
   "cell_type": "markdown",
   "metadata": {},
   "source": [
    "## 필요한 라이브러리 및 옵션\n",
    "\n",
    "### 기본 라이브러리(Library)"
   ]
  },
  {
   "cell_type": "code",
   "execution_count": 1,
   "metadata": {
    "ExecuteTime": {
     "end_time": "2019-12-02T14:36:28.994832Z",
     "start_time": "2019-12-02T14:36:28.983647Z"
    }
   },
   "outputs": [],
   "source": [
    "import os\n",
    "import sys\n",
    "import glob\n",
    "import random\n",
    "import itertools\n",
    "from pathlib import Path\n",
    "from tqdm import tqdm\n",
    "import pickle"
   ]
  },
  {
   "cell_type": "code",
   "execution_count": 2,
   "metadata": {
    "ExecuteTime": {
     "end_time": "2019-12-02T14:36:29.526976Z",
     "start_time": "2019-12-02T14:36:28.997413Z"
    }
   },
   "outputs": [],
   "source": [
    "import numpy as np\n",
    "import pandas as pd\n",
    "import matplotlib.pyplot as plt\n",
    "import seaborn as sns\n",
    "from collections import Counter"
   ]
  },
  {
   "cell_type": "code",
   "execution_count": 3,
   "metadata": {
    "ExecuteTime": {
     "end_time": "2019-12-02T14:36:29.714954Z",
     "start_time": "2019-12-02T14:36:29.528764Z"
    }
   },
   "outputs": [],
   "source": [
    "import cv2\n",
    "from PIL import Image\n",
    "from PIL import ImageFont\n",
    "from PIL import ImageDraw\n",
    "from IPython.display import SVG\n",
    "from sklearn.model_selection import train_test_split\n",
    "from sklearn.preprocessing import LabelEncoder\n",
    "from sklearn.metrics import classification_report\n",
    "import xml.etree.ElementTree as ET\n",
    "from xml.etree.ElementTree import Element, ElementTree"
   ]
  },
  {
   "cell_type": "code",
   "execution_count": 4,
   "metadata": {
    "ExecuteTime": {
     "end_time": "2019-12-02T14:36:30.483839Z",
     "start_time": "2019-12-02T14:36:29.716050Z"
    }
   },
   "outputs": [
    {
     "name": "stderr",
     "output_type": "stream",
     "text": [
      "Using TensorFlow backend.\n",
      "/home/intel/test/test2/lib/python3.6/site-packages/tensorflow/python/framework/dtypes.py:516: FutureWarning: Passing (type, 1) or '1type' as a synonym of type is deprecated; in a future version of numpy, it will be understood as (type, (1,)) / '(1,)type'.\n",
      "  _np_qint8 = np.dtype([(\"qint8\", np.int8, 1)])\n",
      "/home/intel/test/test2/lib/python3.6/site-packages/tensorflow/python/framework/dtypes.py:517: FutureWarning: Passing (type, 1) or '1type' as a synonym of type is deprecated; in a future version of numpy, it will be understood as (type, (1,)) / '(1,)type'.\n",
      "  _np_quint8 = np.dtype([(\"quint8\", np.uint8, 1)])\n",
      "/home/intel/test/test2/lib/python3.6/site-packages/tensorflow/python/framework/dtypes.py:518: FutureWarning: Passing (type, 1) or '1type' as a synonym of type is deprecated; in a future version of numpy, it will be understood as (type, (1,)) / '(1,)type'.\n",
      "  _np_qint16 = np.dtype([(\"qint16\", np.int16, 1)])\n",
      "/home/intel/test/test2/lib/python3.6/site-packages/tensorflow/python/framework/dtypes.py:519: FutureWarning: Passing (type, 1) or '1type' as a synonym of type is deprecated; in a future version of numpy, it will be understood as (type, (1,)) / '(1,)type'.\n",
      "  _np_quint16 = np.dtype([(\"quint16\", np.uint16, 1)])\n",
      "/home/intel/test/test2/lib/python3.6/site-packages/tensorflow/python/framework/dtypes.py:520: FutureWarning: Passing (type, 1) or '1type' as a synonym of type is deprecated; in a future version of numpy, it will be understood as (type, (1,)) / '(1,)type'.\n",
      "  _np_qint32 = np.dtype([(\"qint32\", np.int32, 1)])\n",
      "/home/intel/test/test2/lib/python3.6/site-packages/tensorflow/python/framework/dtypes.py:525: FutureWarning: Passing (type, 1) or '1type' as a synonym of type is deprecated; in a future version of numpy, it will be understood as (type, (1,)) / '(1,)type'.\n",
      "  np_resource = np.dtype([(\"resource\", np.ubyte, 1)])\n",
      "/home/intel/test/test2/lib/python3.6/site-packages/tensorboard/compat/tensorflow_stub/dtypes.py:541: FutureWarning: Passing (type, 1) or '1type' as a synonym of type is deprecated; in a future version of numpy, it will be understood as (type, (1,)) / '(1,)type'.\n",
      "  _np_qint8 = np.dtype([(\"qint8\", np.int8, 1)])\n",
      "/home/intel/test/test2/lib/python3.6/site-packages/tensorboard/compat/tensorflow_stub/dtypes.py:542: FutureWarning: Passing (type, 1) or '1type' as a synonym of type is deprecated; in a future version of numpy, it will be understood as (type, (1,)) / '(1,)type'.\n",
      "  _np_quint8 = np.dtype([(\"quint8\", np.uint8, 1)])\n",
      "/home/intel/test/test2/lib/python3.6/site-packages/tensorboard/compat/tensorflow_stub/dtypes.py:543: FutureWarning: Passing (type, 1) or '1type' as a synonym of type is deprecated; in a future version of numpy, it will be understood as (type, (1,)) / '(1,)type'.\n",
      "  _np_qint16 = np.dtype([(\"qint16\", np.int16, 1)])\n",
      "/home/intel/test/test2/lib/python3.6/site-packages/tensorboard/compat/tensorflow_stub/dtypes.py:544: FutureWarning: Passing (type, 1) or '1type' as a synonym of type is deprecated; in a future version of numpy, it will be understood as (type, (1,)) / '(1,)type'.\n",
      "  _np_quint16 = np.dtype([(\"quint16\", np.uint16, 1)])\n",
      "/home/intel/test/test2/lib/python3.6/site-packages/tensorboard/compat/tensorflow_stub/dtypes.py:545: FutureWarning: Passing (type, 1) or '1type' as a synonym of type is deprecated; in a future version of numpy, it will be understood as (type, (1,)) / '(1,)type'.\n",
      "  _np_qint32 = np.dtype([(\"qint32\", np.int32, 1)])\n",
      "/home/intel/test/test2/lib/python3.6/site-packages/tensorboard/compat/tensorflow_stub/dtypes.py:550: FutureWarning: Passing (type, 1) or '1type' as a synonym of type is deprecated; in a future version of numpy, it will be understood as (type, (1,)) / '(1,)type'.\n",
      "  np_resource = np.dtype([(\"resource\", np.ubyte, 1)])\n"
     ]
    }
   ],
   "source": [
    "import keras\n",
    "import tensorflow as tf\n",
    "from tensorflow.keras.datasets import mnist,cifar10\n",
    "from tensorflow.keras.preprocessing.image import load_img,img_to_array,ImageDataGenerator\n",
    "from tensorflow.keras.applications import MobileNet, MobileNetV2\n",
    "from tensorflow.keras.models import Model,Sequential,load_model\n",
    "from tensorflow.keras.layers import Dense, Conv2D, Flatten, Dropout, MaxPooling2D, Conv2D,GlobalAveragePooling2D\n",
    "from tensorflow.keras.optimizers import RMSprop, Adam\n",
    "from tensorflow.keras.utils import to_categorical,plot_model\n",
    "from tensorflow.keras.losses import categorical_crossentropy,binary_crossentropy\n",
    "from tensorflow.keras.callbacks import Callback\n",
    "from tensorflow.python.client import device_lib"
   ]
  },
  {
   "cell_type": "markdown",
   "metadata": {},
   "source": [
    "### 옵션(Option)"
   ]
  },
  {
   "cell_type": "code",
   "execution_count": 5,
   "metadata": {
    "ExecuteTime": {
     "end_time": "2019-12-02T14:36:30.613864Z",
     "start_time": "2019-12-02T14:36:30.484987Z"
    },
    "scrolled": false
   },
   "outputs": [
    {
     "name": "stdout",
     "output_type": "stream",
     "text": [
      "[name: \"/device:CPU:0\"\n",
      "device_type: \"CPU\"\n",
      "memory_limit: 268435456\n",
      "locality {\n",
      "}\n",
      "incarnation: 4484707636889298844\n",
      ", name: \"/device:XLA_CPU:0\"\n",
      "device_type: \"XLA_CPU\"\n",
      "memory_limit: 17179869184\n",
      "locality {\n",
      "}\n",
      "incarnation: 12709301195562289752\n",
      "physical_device_desc: \"device: XLA_CPU device\"\n",
      "]\n"
     ]
    },
    {
     "data": {
      "text/plain": [
       "[]"
      ]
     },
     "execution_count": 5,
     "metadata": {},
     "output_type": "execute_result"
    }
   ],
   "source": [
    "os.environ[\"CUDA_VISIBLE_DEVICES\"]=\"0\"\n",
    "%matplotlib inline\n",
    "print(device_lib.list_local_devices())\n",
    "keras.backend.tensorflow_backend._get_available_gpus()"
   ]
  },
  {
   "cell_type": "markdown",
   "metadata": {},
   "source": [
    "---\n",
    "\n",
    "## 예제 - VOC2012\n",
    "\n",
    "![](http://host.robots.ox.ac.uk/pascal/VOC/voc2012/pascal2.png)"
   ]
  },
  {
   "cell_type": "markdown",
   "metadata": {},
   "source": [
    "> VOC 2012 데이터는 한 이미지 내에 여러가지 객체가 존재합니다. 그래서 기존의 방법과는 조금 다르게 접근해야합니다.  \n",
    "아래 코드를 따라가봅시다."
   ]
  },
  {
   "cell_type": "markdown",
   "metadata": {},
   "source": [
    "아래의 CLASSES 의 사물과 Lecture001 에서 모은 사물들의 이름이 일치해야 합니다.\n",
    "ex) VOC4IC/train 아래 사물들의 이름과 클래스 이름들이 같아야합니다."
   ]
  },
  {
   "cell_type": "code",
   "execution_count": 6,
   "metadata": {
    "ExecuteTime": {
     "end_time": "2019-12-02T14:36:30.617087Z",
     "start_time": "2019-12-02T14:36:30.614844Z"
    }
   },
   "outputs": [],
   "source": [
    "# 우리가 분류할 20개의 클래스\n",
    "\n",
    "CLASSES = [ 'airplane', 'bicycle', 'bird', 'boat', 'bottle', 'car','cat', 'chair', 'cow', 'dining table', 'dog', 'motorbike', 'person', 'potted plant', 'sheep' , 'sofa', 'train' , 'dolharubang', 'hallasan', 'jejuhorse' ]"
   ]
  },
  {
   "cell_type": "markdown",
   "metadata": {},
   "source": [
    "### 학습에 필요한 상수"
   ]
  },
  {
   "cell_type": "code",
   "execution_count": 7,
   "metadata": {
    "ExecuteTime": {
     "end_time": "2019-12-02T14:36:30.621898Z",
     "start_time": "2019-12-02T14:36:30.618645Z"
    }
   },
   "outputs": [
    {
     "name": "stdout",
     "output_type": "stream",
     "text": [
      "data/VOC2012/JPEGImages\n",
      "data/VOC2012/Annotations\n"
     ]
    }
   ],
   "source": [
    "# 학습에 필요한 상수들을 정의 합니다. \n",
    "\n",
    "IMG_SHAPE = (224, 224, 3)\n",
    "LEARNING_RATE = 2e-5\n",
    "BATCH_SIZE = 16\n",
    "EPOCHS = 10\n",
    "\n",
    "# 각 이미지의 기본 주소\n",
    "BASE_PATH = './data/VOC2012/JPEGImages/'\n",
    "images_dir = Path(BASE_PATH).expanduser()\n",
    "print(images_dir)\n",
    "\n",
    "# 각 이미지별 클래스의 기본 주소\n",
    "XML_BASE_PATH = './data/VOC2012/Annotations/'\n",
    "annotations_dir = Path(XML_BASE_PATH).expanduser()\n",
    "print(annotations_dir)"
   ]
  },
  {
   "cell_type": "code",
   "execution_count": 8,
   "metadata": {
    "ExecuteTime": {
     "end_time": "2019-12-02T14:36:31.561582Z",
     "start_time": "2019-12-02T14:36:31.557588Z"
    }
   },
   "outputs": [],
   "source": [
    "# 데이터의 레이블을 정리 합니다 \n",
    "\n",
    "def xml_to_labels(xml_data, unique_labels):\n",
    "    root = ET.XML(xml_data)\n",
    "    labels = set() if unique_labels else []\n",
    "    labels_add = labels.add if unique_labels else labels.append # speeds up method lookup\n",
    "    for i, child in enumerate(root):\n",
    "        if child.tag == 'filename':\n",
    "            img_filename = child.text\n",
    "        if child.tag == 'object':\n",
    "            for subchild in child:\n",
    "                if subchild.tag == 'name':\n",
    "                    labels_add(subchild.text)\n",
    "    return img_filename, list(labels)\n",
    "\n",
    "def get_labels(annotations_dir, unique_labels=True):\n",
    "    for annotation_file in annotations_dir.iterdir():\n",
    "        with open(annotation_file) as f:\n",
    "            yield xml_to_labels(f.read(), unique_labels)"
   ]
  },
  {
   "cell_type": "code",
   "execution_count": 9,
   "metadata": {},
   "outputs": [
    {
     "name": "stdout",
     "output_type": "stream",
     "text": [
      "['NanumGothic']\n"
     ]
    }
   ],
   "source": [
    "# 한글폰트 인식을 위해 설치해줍니다.\n",
    "\n",
    "import matplotlib.pyplot as plt\n",
    "plt.rc('font', family='NanumGothic')\n",
    "print(plt.rcParams['font.family'])"
   ]
  },
  {
   "cell_type": "code",
   "execution_count": 10,
   "metadata": {
    "ExecuteTime": {
     "end_time": "2019-12-02T14:36:44.072012Z",
     "start_time": "2019-12-02T14:36:43.912394Z"
    }
   },
   "outputs": [
    {
     "name": "stderr",
     "output_type": "stream",
     "text": [
      "findfont: Font family ['NanumGothic'] not found. Falling back to DejaVu Sans.\n"
     ]
    },
    {
     "data": {
      "image/png": "[encoded data removed]",
      "text/plain": [
       "<Figure size 432x288 with 1 Axes>"
      ]
     },
     "metadata": {
      "needs_background": "light"
     },
     "output_type": "display_data"
    },
    {
     "name": "stdout",
     "output_type": "stream",
     "text": [
      "bottle            7\n",
      "dolharubang      35\n",
      "hallasan         48\n",
      "jejuhorse        50\n",
      "dining table     50\n",
      "train            52\n",
      "potted plant     53\n",
      "chair            56\n",
      "dog              56\n",
      "airplane         57\n",
      "boat             60\n",
      "person           61\n",
      "cow              64\n",
      "sheep            64\n",
      "car              64\n",
      "motorbike        69\n",
      "sofa             70\n",
      "bird             72\n",
      "bicycle          87\n",
      "cat             108\n",
      "dtype: int64\n"
     ]
    }
   ],
   "source": [
    "# 우리가 모델 훈련에 사용할 데이터 내용 입니다.\n",
    "\n",
    "class_list = []\n",
    "num_list = []\n",
    "\n",
    "IMAGE_BASE_PATH = './data/VOC4IC/'\n",
    "train_path = IMAGE_BASE_PATH + 'train/'\n",
    "for folder in os.listdir(train_path):\n",
    "    folder_size = len(os.listdir(train_path+folder))\n",
    "#     print('{:<15} : {}'.format(folder,folder_size))\n",
    "    class_list.append(folder)\n",
    "    num_list.append(folder_size)\n",
    "    \n",
    "voc_s = pd.Series(num_list,index=class_list)\n",
    "voc_s.sort_values().plot(kind='bar')\n",
    "plt.show()\n",
    "\n",
    "print(voc_s.sort_values())"
   ]
  },
  {
   "cell_type": "code",
   "execution_count": 11,
   "metadata": {},
   "outputs": [
    {
     "data": {
      "image/png": "[encoded data removed]",
      "text/plain": [
       "<Figure size 432x288 with 1 Axes>"
      ]
     },
     "metadata": {
      "needs_background": "light"
     },
     "output_type": "display_data"
    },
    {
     "name": "stdout",
     "output_type": "stream",
     "text": [
      "bottle           3\n",
      "dolharubang      8\n",
      "hallasan        11\n",
      "jejuhorse       12\n",
      "airplane        12\n",
      "bicycle         12\n",
      "boat            13\n",
      "potted plant    13\n",
      "sofa            15\n",
      "bird            15\n",
      "chair           15\n",
      "car             15\n",
      "train           15\n",
      "sheep           18\n",
      "person          21\n",
      "cow             24\n",
      "dining table    25\n",
      "motorbike       28\n",
      "dog             30\n",
      "cat             48\n",
      "dtype: int64\n"
     ]
    }
   ],
   "source": [
    "# 우리가 모델 훈련 검증에 사용할 데이터 내용 입니다.\n",
    "\n",
    "class_list = []\n",
    "num_list = []\n",
    "\n",
    "IMAGE_BASE_PATH = './data/VOC4IC/'\n",
    "valid_path = IMAGE_BASE_PATH + 'valid/'\n",
    "for folder in os.listdir(valid_path):\n",
    "    folder_size = len(os.listdir(valid_path+folder))\n",
    "#     print('{:<15} : {}'.format(folder,folder_size))\n",
    "    class_list.append(folder)\n",
    "    num_list.append(folder_size)\n",
    "    \n",
    "voc_s = pd.Series(num_list,index=class_list)\n",
    "voc_s.sort_values().plot(kind='bar')\n",
    "plt.show()\n",
    "\n",
    "print(voc_s.sort_values())"
   ]
  },
  {
   "cell_type": "code",
   "execution_count": 12,
   "metadata": {
    "ExecuteTime": {
     "end_time": "2019-12-02T14:36:44.285382Z",
     "start_time": "2019-12-02T14:36:44.073088Z"
    }
   },
   "outputs": [
    {
     "data": {
      "image/png": "[encoded data removed]",
      "text/plain": [
       "<Figure size 432x288 with 1 Axes>"
      ]
     },
     "metadata": {
      "needs_background": "light"
     },
     "output_type": "display_data"
    },
    {
     "name": "stdout",
     "output_type": "stream",
     "text": [
      "bottle           3\n",
      "dolharubang      7\n",
      "hallasan        10\n",
      "jejuhorse       11\n",
      "airplane        12\n",
      "bicycle         12\n",
      "boat            13\n",
      "sofa            15\n",
      "bird            15\n",
      "chair           15\n",
      "potted plant    15\n",
      "car             15\n",
      "train           15\n",
      "sheep           18\n",
      "person          18\n",
      "dining table    25\n",
      "cow             29\n",
      "dog             29\n",
      "motorbike       30\n",
      "cat             45\n",
      "dtype: int64\n"
     ]
    }
   ],
   "source": [
    "# 우리가 훈련된 모델을 검증하는데 사용할 데이터 내용 입니다.\n",
    "\n",
    "class_list = []\n",
    "num_list = []\n",
    "\n",
    "IMAGE_BASE_PATH = './data/VOC4IC/'\n",
    "test_path = IMAGE_BASE_PATH + 'test/'\n",
    "for folder in os.listdir(test_path):\n",
    "    folder_size = len(os.listdir(test_path+folder))\n",
    "#     print('{:<15} : {}'.format(folder,folder_size))\n",
    "    class_list.append(folder)\n",
    "    num_list.append(folder_size)\n",
    "    \n",
    "voc_s = pd.Series(num_list,index=class_list)\n",
    "voc_s.sort_values().plot(kind='bar')\n",
    "plt.show()\n",
    "\n",
    "print(voc_s.sort_values())"
   ]
  },
  {
   "cell_type": "markdown",
   "metadata": {},
   "source": [
    "## Transfer Learning 을 통해 적은 데이터를 가지고 빠르게 학습시키기\n",
    "\n",
    "여기서는 VOC2012에서 학습한 weight(가중치) 값을 이용하여 VOC4IC 데이터를 학습시킵니다."
   ]
  },
  {
   "cell_type": "code",
   "execution_count": 13,
   "metadata": {
    "ExecuteTime": {
     "end_time": "2019-12-02T14:36:48.471330Z",
     "start_time": "2019-12-02T14:36:44.286500Z"
    }
   },
   "outputs": [
    {
     "name": "stdout",
     "output_type": "stream",
     "text": [
      "WARNING:tensorflow:From /home/intel/test/test2/lib/python3.6/site-packages/tensorflow/python/ops/init_ops.py:1251: calling VarianceScaling.__init__ (from tensorflow.python.ops.init_ops) with dtype is deprecated and will be removed in a future version.\n",
      "Instructions for updating:\n",
      "Call initializer instance with the dtype argument instead of passing it to the constructor\n"
     ]
    }
   ],
   "source": [
    "# base model 의 input shape, 그리고  trainable 을 false 로 합니다. \n",
    "\n",
    "base_model = MobileNetV2(input_shape=(224,224,3),\n",
    "                         include_top=False,\n",
    "                         weights='imagenet')\n",
    "base_model.trainable = False"
   ]
  },
  {
   "cell_type": "markdown",
   "metadata": {},
   "source": [
    "## Transfer Learning 에서 정확성을 높이기 위해 마지막 3개 block 에서 모델 트레이닝합니다."
   ]
  },
  {
   "cell_type": "code",
   "execution_count": 14,
   "metadata": {
    "ExecuteTime": {
     "end_time": "2019-12-02T14:36:48.479155Z",
     "start_time": "2019-12-02T14:36:48.472416Z"
    }
   },
   "outputs": [
    {
     "name": "stderr",
     "output_type": "stream",
     "text": [
      "100%|██████████| 155/155 [00:00<00:00, 54430.44it/s]\n"
     ]
    }
   ],
   "source": [
    "# transfer learning에서 마지막 3개 block 을 사용하여 모델을 트레이닝 합니다. \n",
    "\n",
    "set_trainable = False\n",
    "for layer in tqdm(base_model.layers):\n",
    "    if layer.name in ['block_14_expand','block_15_expand', 'block_16_expand']:\n",
    "        set_trainable = True\n",
    "    if set_trainable:\n",
    "        layer.trainable = True\n",
    "    else:\n",
    "        layer.trainable = False"
   ]
  },
  {
   "cell_type": "code",
   "execution_count": 15,
   "metadata": {
    "ExecuteTime": {
     "end_time": "2019-12-02T14:36:48.489086Z",
     "start_time": "2019-12-02T14:36:48.480044Z"
    }
   },
   "outputs": [
    {
     "data": {
      "text/html": [
       "<div>\n",
       "<style scoped>\n",
       "    .dataframe tbody tr th:only-of-type {\n",
       "        vertical-align: middle;\n",
       "    }\n",
       "\n",
       "    .dataframe tbody tr th {\n",
       "        vertical-align: top;\n",
       "    }\n",
       "\n",
       "    .dataframe thead th {\n",
       "        text-align: right;\n",
       "    }\n",
       "</style>\n",
       "<table border=\"1\" class=\"dataframe\">\n",
       "  <thead>\n",
       "    <tr style=\"text-align: right;\">\n",
       "      <th></th>\n",
       "      <th>Layer Type</th>\n",
       "      <th>Layer Name</th>\n",
       "      <th>Layer Trainable</th>\n",
       "    </tr>\n",
       "  </thead>\n",
       "  <tbody>\n",
       "    <tr>\n",
       "      <th>0</th>\n",
       "      <td>&lt;tensorflow.python.keras.engine.input_layer.In...</td>\n",
       "      <td>input_1</td>\n",
       "      <td>False</td>\n",
       "    </tr>\n",
       "    <tr>\n",
       "      <th>1</th>\n",
       "      <td>&lt;tensorflow.python.keras.layers.convolutional....</td>\n",
       "      <td>Conv1_pad</td>\n",
       "      <td>False</td>\n",
       "    </tr>\n",
       "    <tr>\n",
       "      <th>2</th>\n",
       "      <td>&lt;tensorflow.python.keras.layers.convolutional....</td>\n",
       "      <td>Conv1</td>\n",
       "      <td>False</td>\n",
       "    </tr>\n",
       "    <tr>\n",
       "      <th>3</th>\n",
       "      <td>&lt;tensorflow.python.keras.layers.normalization....</td>\n",
       "      <td>bn_Conv1</td>\n",
       "      <td>False</td>\n",
       "    </tr>\n",
       "    <tr>\n",
       "      <th>4</th>\n",
       "      <td>&lt;tensorflow.python.keras.layers.advanced_activ...</td>\n",
       "      <td>Conv1_relu</td>\n",
       "      <td>False</td>\n",
       "    </tr>\n",
       "    <tr>\n",
       "      <th>...</th>\n",
       "      <td>...</td>\n",
       "      <td>...</td>\n",
       "      <td>...</td>\n",
       "    </tr>\n",
       "    <tr>\n",
       "      <th>150</th>\n",
       "      <td>&lt;tensorflow.python.keras.layers.convolutional....</td>\n",
       "      <td>block_16_project</td>\n",
       "      <td>True</td>\n",
       "    </tr>\n",
       "    <tr>\n",
       "      <th>151</th>\n",
       "      <td>&lt;tensorflow.python.keras.layers.normalization....</td>\n",
       "      <td>block_16_project_BN</td>\n",
       "      <td>True</td>\n",
       "    </tr>\n",
       "    <tr>\n",
       "      <th>152</th>\n",
       "      <td>&lt;tensorflow.python.keras.layers.convolutional....</td>\n",
       "      <td>Conv_1</td>\n",
       "      <td>True</td>\n",
       "    </tr>\n",
       "    <tr>\n",
       "      <th>153</th>\n",
       "      <td>&lt;tensorflow.python.keras.layers.normalization....</td>\n",
       "      <td>Conv_1_bn</td>\n",
       "      <td>True</td>\n",
       "    </tr>\n",
       "    <tr>\n",
       "      <th>154</th>\n",
       "      <td>&lt;tensorflow.python.keras.layers.advanced_activ...</td>\n",
       "      <td>out_relu</td>\n",
       "      <td>True</td>\n",
       "    </tr>\n",
       "  </tbody>\n",
       "</table>\n",
       "<p>155 rows × 3 columns</p>\n",
       "</div>"
      ],
      "text/plain": [
       "                                            Layer Type           Layer Name  \\\n",
       "0    <tensorflow.python.keras.engine.input_layer.In...              input_1   \n",
       "1    <tensorflow.python.keras.layers.convolutional....            Conv1_pad   \n",
       "2    <tensorflow.python.keras.layers.convolutional....                Conv1   \n",
       "3    <tensorflow.python.keras.layers.normalization....             bn_Conv1   \n",
       "4    <tensorflow.python.keras.layers.advanced_activ...           Conv1_relu   \n",
       "..                                                 ...                  ...   \n",
       "150  <tensorflow.python.keras.layers.convolutional....     block_16_project   \n",
       "151  <tensorflow.python.keras.layers.normalization....  block_16_project_BN   \n",
       "152  <tensorflow.python.keras.layers.convolutional....               Conv_1   \n",
       "153  <tensorflow.python.keras.layers.normalization....            Conv_1_bn   \n",
       "154  <tensorflow.python.keras.layers.advanced_activ...             out_relu   \n",
       "\n",
       "     Layer Trainable  \n",
       "0              False  \n",
       "1              False  \n",
       "2              False  \n",
       "3              False  \n",
       "4              False  \n",
       "..               ...  \n",
       "150             True  \n",
       "151             True  \n",
       "152             True  \n",
       "153             True  \n",
       "154             True  \n",
       "\n",
       "[155 rows x 3 columns]"
      ]
     },
     "execution_count": 15,
     "metadata": {},
     "output_type": "execute_result"
    }
   ],
   "source": [
    "# 레이어 구성을 살펴 봅니다. \n",
    "\n",
    "layers = [(layer, layer.name, layer.trainable) for layer in base_model.layers]\n",
    "\n",
    "pd.DataFrame(layers, columns=['Layer Type', 'Layer Name', 'Layer Trainable']) "
   ]
  },
  {
   "cell_type": "code",
   "execution_count": 16,
   "metadata": {
    "ExecuteTime": {
     "end_time": "2019-12-02T14:36:49.976485Z",
     "start_time": "2019-12-02T14:36:48.490018Z"
    },
    "scrolled": true
   },
   "outputs": [
    {
     "name": "stdout",
     "output_type": "stream",
     "text": [
      "Model: \"sequential\"\n",
      "_________________________________________________________________\n",
      "Layer (type)                 Output Shape              Param #   \n",
      "=================================================================\n",
      "mobilenetv2_1.00_224 (Model) (None, 7, 7, 1280)        2257984   \n",
      "_________________________________________________________________\n",
      "global_average_pooling2d (Gl (None, 1280)              0         \n",
      "_________________________________________________________________\n",
      "dense (Dense)                (None, 512)               655872    \n",
      "_________________________________________________________________\n",
      "dense_1 (Dense)              (None, 64)                32832     \n",
      "_________________________________________________________________\n",
      "dense_2 (Dense)              (None, 20)                1300      \n",
      "=================================================================\n",
      "Total params: 2,947,988\n",
      "Trainable params: 690,004\n",
      "Non-trainable params: 2,257,984\n",
      "_________________________________________________________________\n",
      "Failed to import pydot. You must install pydot and graphviz for `pydotprint` to work.\n"
     ]
    }
   ],
   "source": [
    "# 모델 만들기, 기존 모델의 weight 값을 사용하고 pooling 과 activation 함수를 추가 합니다. \n",
    "\n",
    "model = Sequential([\n",
    "    base_model,\n",
    "    GlobalAveragePooling2D(),\n",
    "    Dense(512,activation='relu'),\n",
    "    Dense(64,activation='relu'),\n",
    "    Dense(len(CLASSES), activation='softmax')\n",
    "])\n",
    "model.summary()\n",
    "\n",
    "plot_model(model,to_file='./img/model/voc2012_mobilenet_model.png',show_shapes=True)"
   ]
  },
  {
   "cell_type": "markdown",
   "metadata": {},
   "source": [
    "### 모델 컴파일"
   ]
  },
  {
   "cell_type": "code",
   "execution_count": 17,
   "metadata": {
    "ExecuteTime": {
     "end_time": "2019-12-02T14:36:50.038821Z",
     "start_time": "2019-12-02T14:36:49.977831Z"
    }
   },
   "outputs": [],
   "source": [
    "model.compile(loss=categorical_crossentropy, \n",
    "              optimizer=Adam(learning_rate=0.0001), # transfer learning 여기서 학습률을 더 작게 \n",
    "              metrics=['acc'])"
   ]
  },
  {
   "cell_type": "markdown",
   "metadata": {},
   "source": [
    "### 모델 학습하기"
   ]
  },
  {
   "cell_type": "code",
   "execution_count": 18,
   "metadata": {
    "ExecuteTime": {
     "end_time": "2019-12-02T14:36:50.152095Z",
     "start_time": "2019-12-02T14:36:50.039930Z"
    }
   },
   "outputs": [
    {
     "name": "stdout",
     "output_type": "stream",
     "text": [
      "Found 1183 images belonging to 20 classes.\n"
     ]
    }
   ],
   "source": [
    "# 트레인 데이터 augmentation 의로 데이터를 증가 시킴니다.  \n",
    "\n",
    "train_datagen = ImageDataGenerator(rotation_range=30,\n",
    "                                   rescale=1./255,\n",
    "                                   shear_range=0.2,\n",
    "                                   zoom_range=0.2,\n",
    "                                   width_shift_range=0.2,\n",
    "                                   height_shift_range=0.2,\n",
    "                                   horizontal_flip=True,\n",
    "                                   fill_mode='nearest'\n",
    "                                   )\n",
    "\n",
    "train_set = train_datagen.flow_from_directory(IMAGE_BASE_PATH + 'train/',\n",
    "                                              target_size=(224, 224),\n",
    "                                              batch_size=16,\n",
    "                                              shuffle=True,\n",
    "                                              class_mode='categorical')"
   ]
  },
  {
   "cell_type": "code",
   "execution_count": 19,
   "metadata": {
    "ExecuteTime": {
     "end_time": "2019-12-02T14:36:50.513753Z",
     "start_time": "2019-12-02T14:36:50.157114Z"
    }
   },
   "outputs": [
    {
     "name": "stdout",
     "output_type": "stream",
     "text": [
      "Found 353 images belonging to 20 classes.\n"
     ]
    }
   ],
   "source": [
    "# 학습중에 validation에 사용할 데이터셋 입니다.  \n",
    "\n",
    "valid_datagen = ImageDataGenerator(rescale=1./255)\n",
    "\n",
    "valid_set = valid_datagen.flow_from_directory(IMAGE_BASE_PATH + 'valid/',\n",
    "                                            target_size=(224, 224),\n",
    "                                            batch_size=16,\n",
    "                                            shuffle=True,\n",
    "                                            class_mode='categorical')"
   ]
  },
  {
   "cell_type": "code",
   "execution_count": 20,
   "metadata": {
    "ExecuteTime": {
     "end_time": "2019-12-02T14:36:50.635869Z",
     "start_time": "2019-12-02T14:36:50.518433Z"
    }
   },
   "outputs": [
    {
     "name": "stdout",
     "output_type": "stream",
     "text": [
      "Found 352 images belonging to 20 classes.\n"
     ]
    }
   ],
   "source": [
    "# 학습을 완료후에 모델 성능 테스트에 사용할 데이터셋 입니다. \n",
    "\n",
    "test_datagen = ImageDataGenerator(rescale=1./255)\n",
    "\n",
    "test_set = test_datagen.flow_from_directory(IMAGE_BASE_PATH + 'test/',\n",
    "                                            target_size=(224, 224),\n",
    "                                            batch_size=16,\n",
    "                                            shuffle=True,\n",
    "                                            class_mode='categorical')"
   ]
  },
  {
   "cell_type": "code",
   "execution_count": 21,
   "metadata": {
    "ExecuteTime": {
     "end_time": "2019-12-02T14:44:25.137510Z",
     "start_time": "2019-12-02T14:37:10.164914Z"
    },
    "scrolled": true
   },
   "outputs": [
    {
     "name": "stdout",
     "output_type": "stream",
     "text": [
      "Epoch 1/20\n",
      "73/73 [==============================] - 32s 433ms/step - loss: 2.5534 - acc: 0.2999 - val_loss: 1.9311 - val_acc: 0.5568\n",
      "Epoch 2/20\n",
      "73/73 [==============================] - 30s 414ms/step - loss: 1.5135 - acc: 0.6727 - val_loss: 1.0572 - val_acc: 0.7642\n",
      "Epoch 3/20\n",
      "73/73 [==============================] - 30s 417ms/step - loss: 0.9549 - acc: 0.7901 - val_loss: 0.7165 - val_acc: 0.8381\n",
      "Epoch 4/20\n",
      "73/73 [==============================] - 30s 417ms/step - loss: 0.6835 - acc: 0.8363 - val_loss: 0.5717 - val_acc: 0.8352\n",
      "Epoch 5/20\n",
      "73/73 [==============================] - 30s 417ms/step - loss: 0.5754 - acc: 0.8526 - val_loss: 0.4821 - val_acc: 0.8551\n",
      "Epoch 6/20\n",
      "73/73 [==============================] - 31s 418ms/step - loss: 0.4665 - acc: 0.8826 - val_loss: 0.3922 - val_acc: 0.8750\n",
      "Epoch 7/20\n",
      "73/73 [==============================] - 31s 418ms/step - loss: 0.4285 - acc: 0.8895 - val_loss: 0.3580 - val_acc: 0.8864\n",
      "Epoch 8/20\n",
      "73/73 [==============================] - 31s 419ms/step - loss: 0.4033 - acc: 0.8860 - val_loss: 0.2960 - val_acc: 0.9205\n",
      "Epoch 9/20\n",
      "73/73 [==============================] - 31s 420ms/step - loss: 0.3711 - acc: 0.8929 - val_loss: 0.3293 - val_acc: 0.9091\n",
      "Epoch 10/20\n",
      "73/73 [==============================] - 31s 419ms/step - loss: 0.2880 - acc: 0.9135 - val_loss: 0.3056 - val_acc: 0.8864\n",
      "Epoch 11/20\n",
      "73/73 [==============================] - 31s 420ms/step - loss: 0.3139 - acc: 0.9144 - val_loss: 0.3040 - val_acc: 0.8920\n",
      "Epoch 12/20\n",
      "73/73 [==============================] - 31s 420ms/step - loss: 0.2943 - acc: 0.9125 - val_loss: 0.2812 - val_acc: 0.9006\n",
      "Epoch 13/20\n",
      "73/73 [==============================] - 31s 421ms/step - loss: 0.2926 - acc: 0.9187 - val_loss: 0.2479 - val_acc: 0.9119\n",
      "Epoch 14/20\n",
      "73/73 [==============================] - 31s 419ms/step - loss: 0.2781 - acc: 0.9134 - val_loss: 0.2685 - val_acc: 0.8977\n",
      "Epoch 15/20\n",
      "73/73 [==============================] - 31s 419ms/step - loss: 0.2292 - acc: 0.9332 - val_loss: 0.2634 - val_acc: 0.9233\n",
      "Epoch 16/20\n",
      "73/73 [==============================] - 31s 419ms/step - loss: 0.2607 - acc: 0.9237 - val_loss: 0.2482 - val_acc: 0.9148\n",
      "Epoch 17/20\n",
      "73/73 [==============================] - 31s 419ms/step - loss: 0.2309 - acc: 0.9349 - val_loss: 0.2353 - val_acc: 0.9233\n",
      "Epoch 18/20\n",
      "73/73 [==============================] - 31s 420ms/step - loss: 0.2236 - acc: 0.9307 - val_loss: 0.2378 - val_acc: 0.9119\n",
      "Epoch 19/20\n",
      "73/73 [==============================] - 31s 419ms/step - loss: 0.2499 - acc: 0.9177 - val_loss: 0.2454 - val_acc: 0.9261\n",
      "Epoch 20/20\n",
      "73/73 [==============================] - 31s 421ms/step - loss: 0.2455 - acc: 0.9203 - val_loss: 0.3000 - val_acc: 0.8920\n"
     ]
    }
   ],
   "source": [
    "# 모델 트레이닝 입니다. \n",
    "\n",
    "history = model.fit_generator(train_set,\n",
    "                              steps_per_epoch=train_set.n // train_set.batch_size,\n",
    "                              epochs=20,\n",
    "                              validation_data=valid_set,\n",
    "                              validation_steps=valid_set.n // valid_set.batch_size,\n",
    "#                               use_multiprocessing=True,\n",
    "                              )"
   ]
  },
  {
   "cell_type": "markdown",
   "metadata": {},
   "source": [
    "### 모델 저장하기"
   ]
  },
  {
   "cell_type": "code",
   "execution_count": 22,
   "metadata": {
    "ExecuteTime": {
     "end_time": "2019-12-02T14:44:25.906887Z",
     "start_time": "2019-12-02T14:44:25.142704Z"
    }
   },
   "outputs": [],
   "source": [
    "model.save('./bin/mobilenetv2_class20.h5')"
   ]
  },
  {
   "cell_type": "code",
   "execution_count": 23,
   "metadata": {},
   "outputs": [
    {
     "data": {
      "text/plain": [
       "dict_items([('airplane', 0), ('bicycle', 1), ('bird', 2), ('boat', 3), ('bottle', 4), ('car', 5), ('cat', 6), ('chair', 7), ('cow', 8), ('dining table', 9), ('dog', 10), ('dolharubang', 11), ('hallasan', 12), ('jejuhorse', 13), ('motorbike', 14), ('person', 15), ('potted plant', 16), ('sheep', 17), ('sofa', 18), ('train', 19)])"
      ]
     },
     "execution_count": 23,
     "metadata": {},
     "output_type": "execute_result"
    }
   ],
   "source": [
    "test_set.class_indices.items()"
   ]
  },
  {
   "cell_type": "code",
   "execution_count": 24,
   "metadata": {
    "ExecuteTime": {
     "end_time": "2019-12-02T14:44:25.906887Z",
     "start_time": "2019-12-02T14:44:25.142704Z"
    }
   },
   "outputs": [],
   "source": [
    "# key 와 value 값을 바꾸어 줍니다. \n",
    "class20 = dict()\n",
    "for key,value in test_set.class_indices.items():\n",
    "    class20[value] = key\n",
    "\n",
    "with open('./bin/class20.pickle', 'wb') as f:\n",
    "    pickle.dump(class20, f)"
   ]
  },
  {
   "cell_type": "code",
   "execution_count": 25,
   "metadata": {},
   "outputs": [
    {
     "data": {
      "text/plain": [
       "{0: 'airplane',\n",
       " 1: 'bicycle',\n",
       " 2: 'bird',\n",
       " 3: 'boat',\n",
       " 4: 'bottle',\n",
       " 5: 'car',\n",
       " 6: 'cat',\n",
       " 7: 'chair',\n",
       " 8: 'cow',\n",
       " 9: 'dining table',\n",
       " 10: 'dog',\n",
       " 11: 'dolharubang',\n",
       " 12: 'hallasan',\n",
       " 13: 'jejuhorse',\n",
       " 14: 'motorbike',\n",
       " 15: 'person',\n",
       " 16: 'potted plant',\n",
       " 17: 'sheep',\n",
       " 18: 'sofa',\n",
       " 19: 'train'}"
      ]
     },
     "execution_count": 25,
     "metadata": {},
     "output_type": "execute_result"
    }
   ],
   "source": [
    "class20"
   ]
  },
  {
   "cell_type": "markdown",
   "metadata": {},
   "source": [
    "### 모델 평가하기"
   ]
  },
  {
   "cell_type": "code",
   "execution_count": 26,
   "metadata": {
    "ExecuteTime": {
     "end_time": "2019-12-02T14:44:50.922359Z",
     "start_time": "2019-12-02T14:44:25.908502Z"
    }
   },
   "outputs": [
    {
     "name": "stdout",
     "output_type": "stream",
     "text": [
      "Train Loss : 0.28236474637948983\n",
      "Train Accuracy : 0.9095519781112671\n",
      "Test Loss : 0.40795171802694147\n",
      "Test Accuracy : 0.8806818127632141\n"
     ]
    }
   ],
   "source": [
    "# 트레인 데이터와 테스트 데이터 셋으로 loss 와 accuracy 측정합니다.  \n",
    "\n",
    "train_loss, train_acc = model.evaluate_generator(train_set)\n",
    "print('Train Loss : {}'.format(train_loss))\n",
    "print('Train Accuracy : {}'.format(train_acc))\n",
    "\n",
    "test_loss, test_acc = model.evaluate_generator(test_set)\n",
    "print('Test Loss : {}'.format(test_loss))\n",
    "print('Test Accuracy : {}'.format(test_acc))"
   ]
  },
  {
   "cell_type": "code",
   "execution_count": 27,
   "metadata": {
    "ExecuteTime": {
     "end_time": "2019-12-02T14:44:51.054839Z",
     "start_time": "2019-12-02T14:44:50.923838Z"
    }
   },
   "outputs": [
    {
     "name": "stderr",
     "output_type": "stream",
     "text": [
      "findfont: Font family ['NanumGothic'] not found. Falling back to DejaVu Sans.\n"
     ]
    },
    {
     "data": {
      "image/png": "[encoded data removed]",
      "text/plain": [
       "<Figure size 432x288 with 1 Axes>"
      ]
     },
     "metadata": {
      "needs_background": "light"
     },
     "output_type": "display_data"
    }
   ],
   "source": [
    "# loss 측정값의 시각화 입니다.  \n",
    "\n",
    "loss = history.history['loss']\n",
    "val_loss = history.history['val_loss']\n",
    "epochs = range(1,len(loss)+1)\n",
    "\n",
    "plt.plot(epochs,loss,label='Training Loss')\n",
    "plt.plot(epochs,val_loss,label='Validation Loss')\n",
    "plt.title('Training and Validation Loss')\n",
    "plt.xlabel('Epochs')\n",
    "plt.ylabel('Loss')\n",
    "plt.legend()\n",
    "\n",
    "plt.show()"
   ]
  },
  {
   "cell_type": "code",
   "execution_count": 28,
   "metadata": {
    "ExecuteTime": {
     "end_time": "2019-12-02T14:44:51.178139Z",
     "start_time": "2019-12-02T14:44:51.055902Z"
    }
   },
   "outputs": [
    {
     "data": {
      "image/png": "[encoded data removed]",
      "text/plain": [
       "<Figure size 432x288 with 1 Axes>"
      ]
     },
     "metadata": {
      "needs_background": "light"
     },
     "output_type": "display_data"
    }
   ],
   "source": [
    "# accuracy 측정값의 시각화 입니다.  \n",
    "\n",
    "acc = history.history['acc']\n",
    "val_acc = history.history['val_acc']\n",
    "epochs = range(1,len(loss)+1)\n",
    "plt.plot(epochs,acc,label='Training Accuarcy')\n",
    "plt.plot(epochs,val_acc,label='Validation Accuarcy')\n",
    "plt.title('Training and Validation Accuarcy')\n",
    "plt.xlabel('Epochs')\n",
    "plt.ylabel('Accuarcy')\n",
    "plt.legend()\n",
    "\n",
    "plt.show()"
   ]
  },
  {
   "cell_type": "markdown",
   "metadata": {},
   "source": [
    "### 테스트해보기"
   ]
  },
  {
   "cell_type": "code",
   "execution_count": 29,
   "metadata": {
    "ExecuteTime": {
     "end_time": "2019-12-02T14:44:55.300576Z",
     "start_time": "2019-12-02T14:44:55.290471Z"
    }
   },
   "outputs": [],
   "source": [
    "# 추론하기 위한 작업입니다. 모델 설정, 입력 데이터 전처리.\n",
    "\n",
    "def predict_test_img(path):\n",
    "    img = cv2.imread(path) \n",
    "    \n",
    "    model = load_model('./bin/mobilenetv2_class20.h5')\n",
    "    \n",
    "    print('Original Shape : ',img.shape)\n",
    "    \n",
    "    img = cv2.resize(img, (224,224), fx=0.5, fy=0.5, interpolation=cv2.INTER_AREA)\n",
    "    img = cv2.cvtColor(img, cv2.COLOR_BGR2RGB)\n",
    "    img = img / 255\n",
    "    print('Resized Shape : ',img.shape)\n",
    "    plt.imshow(img)\n",
    "    plt.show()\n",
    "    \n",
    "    ans = model.predict_classes(np.expand_dims(img,axis=0))\n",
    "    with open('./bin/class20.pickle','rb') as f:\n",
    "        class20 = pickle.load(f)\n",
    "    print('Predict : {}'.format(class20[ans[0]]))\n",
    "    \n",
    "    \n",
    "    predicted_result = model.predict(np.expand_dims(img,axis=0))\n",
    "\n",
    "    pd.DataFrame(predicted_result,columns=class20.values()).iloc[0].plot(kind='bar')\n",
    "    plt.show()"
   ]
  },
  {
   "cell_type": "code",
   "execution_count": null,
   "metadata": {
    "ExecuteTime": {
     "end_time": "2019-12-02T14:45:43.591984Z",
     "start_time": "2019-12-02T14:45:33.879543Z"
    }
   },
   "outputs": [],
   "source": [
    "# 기존에 사용되지 않았던 임의 데이터를 추론 하기\n",
    "\n",
    "predict_test_img('img/test/can.jpg')"
   ]
  },
  {
   "cell_type": "code",
   "execution_count": null,
   "metadata": {
    "ExecuteTime": {
     "end_time": "2019-12-02T14:46:28.033589Z",
     "start_time": "2019-12-02T14:46:16.432395Z"
    }
   },
   "outputs": [],
   "source": [
    "predict_test_img('img/test/clock.jpg')"
   ]
  },
  {
   "cell_type": "code",
   "execution_count": null,
   "metadata": {},
   "outputs": [],
   "source": [
    "predict_test_img('img/test/dog.jpg')"
   ]
  },
  {
   "cell_type": "code",
   "execution_count": null,
   "metadata": {},
   "outputs": [],
   "source": []
  },
  {
   "cell_type": "code",
   "execution_count": null,
   "metadata": {},
   "outputs": [],
   "source": []
  },
  {
   "cell_type": "code",
   "execution_count": null,
   "metadata": {},
   "outputs": [],
   "source": []
  }
 ],
 "metadata": {
  "kernelspec": {
   "display_name": "Python 3",
   "language": "python",
   "name": "python3"
  },
  "language_info": {
   "codemirror_mode": {
    "name": "ipython",
    "version": 3
   },
   "file_extension": ".py",
   "mimetype": "text/x-python",
   "name": "python",
   "nbconvert_exporter": "python",
   "pygments_lexer": "ipython3",
   "version": "3.6.9"
  },
  "toc": {
   "base_numbering": 1,
   "nav_menu": {},
   "number_sections": true,
   "sideBar": true,
   "skip_h1_title": true,
   "title_cell": "강의목차",
   "title_sidebar": "강의목차",
   "toc_cell": true,
   "toc_position": {
    "height": "calc(100% - 180px)",
    "left": "10px",
    "top": "150px",
    "width": "256px"
   },
   "toc_section_display": true,
   "toc_window_display": true
  }
 },
 "nbformat": 4,
 "nbformat_minor": 2
}
