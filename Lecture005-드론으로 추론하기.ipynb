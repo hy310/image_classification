{
 "cells": [
  {
   "cell_type": "markdown",
   "metadata": {},
   "source": [
    "<img src='https://www.anadronestarting.com/wp-content/uploads/intel-main_opt.png' width=40%>\n",
    "\n",
    "# Lecture 005. 드론으로 추론하기\n",
    "\n",
    "<font size=5><div align='right'>이  인  구 (Ike Lee)</div>  \n",
    "<font size=5><div align='right'>이  해  영 (Haeyoung Lee)</div>  \n",
    "\n",
    "<img src='https://images.crutchfieldonline.com/ImageHandler/trim/620/378/products/2019/33/964/g964TELLEDU-F.jpg' width=40%>\n",
    "\n",
    "---"
   ]
  },
  {
   "cell_type": "markdown",
   "metadata": {},
   "source": [
    "#### 드론조종기1.py \n",
    "드론조종기1은 원본 모델로 추가 action 없이 가장 간단하게 드론을 조종하는 코드입니다.\n",
    "#### my드론조종기.py\n",
    "my드론조종기는 드론이 내가 추가한 사물을 가지고 학습시킨 모델로 내가 설정한 target 을 인식하면 내가 작성한 script 대로 드론이 움직이게 해주는 코드입니다."
   ]
  },
  {
   "cell_type": "markdown",
   "metadata": {},
   "source": [
    "### 드론이 사용할 모델 가져오기"
   ]
  },
  {
   "cell_type": "code",
   "execution_count": 1,
   "metadata": {},
   "outputs": [
    {
     "name": "stdout",
     "output_type": "stream",
     "text": [
      "/home/intel/test/bin\n"
     ]
    }
   ],
   "source": [
    "%cd bin\n",
    "%cp -f mobilenetv2.xml mobilenetv2.bin /home/intel/test/인공지능드론/models"
   ]
  },
  {
   "cell_type": "markdown",
   "metadata": {},
   "source": [
    "# 내가 추론할 사물 이름 적어주기 <중요!!!>\n",
    "\n",
    "## imobilenet/인공지능드론/models 에서 mobilenetv2.txt 파일을 수정합니다.\n",
    "## 내가 추가한 사물을 적어줍니다. (이 때 2번 lecture 에서 학습시켜주었던 라벨링 순서(알파벳 순서) 그대로 넣어줍니다.) (abcd 순으로 적는 것 매우 중요) \n",
    "\n",
    "#### 자, 이제 드론에서 사용할 모델 준비가 완료되었습니다."
   ]
  },
  {
   "cell_type": "markdown",
   "metadata": {},
   "source": [
    "## my드론조종기 사용법"
   ]
  },
  {
   "cell_type": "markdown",
   "metadata": {},
   "source": [
    "### target 설정하기\n",
    "1. my드론조종기.py 에 들어가서 ###드론이 원하는 사물 발견하면 script대로 움직이기###를 찾습니다. (234번째 line)\n",
    "2. 드론이 어떤 사물을 발견했을 때 움직이게 하고 싶은지 결정하고 그 사물을 target 1, 2, 3에 적어줍니다. 이 때 이름은 앞 강좌에서 VOC4IC 에 넣었던 사물 이름 그대로 사용합니다.\n",
    "3. 타겟을 하나 또는 두 개만 하고 싶을 때는 맨 앞에 #을 붙여주어 주석처리를 해줍니다. 이 때 첫번째, 두번째, 세번째 타겟을 주석처리 함에 따라 그 아래 해당하는 부분도 함께 주석처리를 해주어야 합니다. 현재 my드론조종기.py 에는 세번째 타겟과 그에 따른 부분을 주석처리해 준 상태입니다.\n",
    "\n",
    "### label list 수정하기\n",
    "4. 83번째 line으로 올라가서 label list에 내가 정한 target 이름을 적어주고 그 개수만큼 제거하여 총 8개로 맞추어줍니다. 이 부분은 순서 상관없이 그냥 아무거나 지우시고 원하는 target 을 넣어주시면 됩니다. (이 부분은 단순히 GUI 의 사진 update 를 위한 부분이므로 현재 사용하지는 않습니다.)\n",
    "\n",
    "### scripts 작성하기\n",
    "5. 드론이 사물을 발견했을 때 움직이는 motion은 인공지능드론/scripts에 txt 파일로 저장합니다. 이 때 스크립트 이름은 꼭 사물과 동일한 이름으로 해주어야 합니다.\n",
    "6. 위의 스크립트를 작성할 때 직접 txt 파일에 작성해도 좋고, my드론조종기.py 를 실행한 후 reset 버튼 아래 스크립트를 적는 칸에 명령어들을 적고 제목을 사물 이름으로 한 후 save 버튼을 눌러도 저장이 됩니다.\n",
    "7. 위의 안내대로 my드론조종기.py 에서 사물이름과 스크립트 작성이 완료된다면 잘 작동됩니다."
   ]
  },
  {
   "cell_type": "markdown",
   "metadata": {},
   "source": [
    "### 명령창에서 드론 창 실행하기"
   ]
  },
  {
   "cell_type": "code",
   "execution_count": null,
   "metadata": {},
   "outputs": [
    {
     "name": "stdout",
     "output_type": "stream",
     "text": [
      "/home/intel/test/인공지능드론\n",
      "Object Detector initialize...\n",
      "/home/intel/test/인공지능드론/ObjectClassifier_Cifar10.py:32: DeprecationWarning: Reading network using constructor is deprecated. Please, use IECore.read_network() method instead\n",
      "  net = IENetwork(model=model_xml, weights=model_bin)\n",
      "/home/intel/test/인공지능드론/ObjectClassifier_Cifar10.py:33: DeprecationWarning: 'inputs' property of IENetwork class is deprecated. To access DataPtrs user need to use 'input_data' property of InputInfoPtr objects which can be accessed by 'input_info' property.\n",
      "  assert len(net.inputs.keys()) == 1\n",
      "GPU\n",
      "/home/intel/test/인공지능드론/ObjectClassifier_Cifar10.py:37: DeprecationWarning: IEPlugin class is deprecated. Please use IECore class instead.\n",
      "  plugin = IEPlugin(device=device)\n",
      "<class 'openvino.inference_engine.ie_api.IEPlugin'>\n",
      "Loading IR to the plugin...\n",
      "1 3 224 224\n"
     ]
    }
   ],
   "source": [
    "%cd /home/intel/test/인공지능드론\n",
    "! python3 my드론조종기.py True "
   ]
  },
  {
   "cell_type": "code",
   "execution_count": null,
   "metadata": {},
   "outputs": [],
   "source": []
  }
 ],
 "metadata": {
  "kernelspec": {
   "display_name": "Python 3",
   "language": "python",
   "name": "python3"
  },
  "language_info": {
   "codemirror_mode": {
    "name": "ipython",
    "version": 3
   },
   "file_extension": ".py",
   "mimetype": "text/x-python",
   "name": "python",
   "nbconvert_exporter": "python",
   "pygments_lexer": "ipython3",
   "version": "3.6.9"
  }
 },
 "nbformat": 4,
 "nbformat_minor": 2
}
